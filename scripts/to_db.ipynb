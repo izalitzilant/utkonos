{
 "cells": [
  {
   "cell_type": "code",
   "execution_count": 31,
   "metadata": {},
   "outputs": [],
   "source": [
    "import pandas as pd\n",
    "import sqlite3\n",
    "import datetime"
   ]
  },
  {
   "cell_type": "code",
   "execution_count": 32,
   "metadata": {},
   "outputs": [],
   "source": [
    "conn = sqlite3.connect('../db/sqlite.db')"
   ]
  },
  {
   "cell_type": "code",
   "execution_count": 33,
   "metadata": {},
   "outputs": [
    {
     "name": "stderr",
     "output_type": "stream",
     "text": [
      "/home/fvt/anaconda3/envs/utkonos/lib/python3.7/site-packages/IPython/core/interactiveshell.py:3063: DtypeWarning: Columns (8) have mixed types. Specify dtype option on import or set low_memory=False.\n",
      "  interactivity=interactivity, compiler=compiler, result=result)\n"
     ]
    }
   ],
   "source": [
    "df = pd.read_csv('../data/data_raw.csv')"
   ]
  },
  {
   "cell_type": "code",
   "execution_count": 34,
   "metadata": {},
   "outputs": [],
   "source": [
    "def fix_date(d):\n",
    "    return datetime.datetime.strptime(d, '%d/%m/%Y').date().isoformat()"
   ]
  },
  {
   "cell_type": "code",
   "execution_count": 35,
   "metadata": {},
   "outputs": [],
   "source": [
    "df['Date'] = df['Date'].apply(fix_date)\n",
    "df['OrderDate'] = df['OrderDate'].apply(fix_date)"
   ]
  },
  {
   "cell_type": "code",
   "execution_count": 36,
   "metadata": {},
   "outputs": [],
   "source": [
    "df.to_sql('orders', conn, index=False, if_exists='replace')"
   ]
  },
  {
   "cell_type": "code",
   "execution_count": 37,
   "metadata": {},
   "outputs": [
    {
     "data": {
      "text/html": [
       "<div>\n",
       "<style scoped>\n",
       "    .dataframe tbody tr th:only-of-type {\n",
       "        vertical-align: middle;\n",
       "    }\n",
       "\n",
       "    .dataframe tbody tr th {\n",
       "        vertical-align: top;\n",
       "    }\n",
       "\n",
       "    .dataframe thead th {\n",
       "        text-align: right;\n",
       "    }\n",
       "</style>\n",
       "<table border=\"1\" class=\"dataframe\">\n",
       "  <thead>\n",
       "    <tr style=\"text-align: right;\">\n",
       "      <th></th>\n",
       "      <th>Interval</th>\n",
       "      <th>Date</th>\n",
       "      <th>OrderDate</th>\n",
       "      <th>ClientID</th>\n",
       "      <th>ChannelID</th>\n",
       "      <th>OrderID</th>\n",
       "      <th>MaterialID</th>\n",
       "      <th>GroupID</th>\n",
       "      <th>Cluster</th>\n",
       "      <th>CancelFlag</th>\n",
       "      <th>OrderCnt</th>\n",
       "      <th>DeliveryType</th>\n",
       "      <th>prepay</th>\n",
       "      <th>count_edit</th>\n",
       "    </tr>\n",
       "  </thead>\n",
       "  <tbody>\n",
       "    <tr>\n",
       "      <th>0</th>\n",
       "      <td>14-16.</td>\n",
       "      <td>2018-10-03</td>\n",
       "      <td>2018-10-02</td>\n",
       "      <td>93808186</td>\n",
       "      <td>2</td>\n",
       "      <td>90102063002</td>\n",
       "      <td>3328810.0</td>\n",
       "      <td>61.0</td>\n",
       "      <td>None</td>\n",
       "      <td>0</td>\n",
       "      <td>1.0</td>\n",
       "      <td>Обычная доставка</td>\n",
       "      <td>0</td>\n",
       "      <td>1</td>\n",
       "    </tr>\n",
       "  </tbody>\n",
       "</table>\n",
       "</div>"
      ],
      "text/plain": [
       "  Interval        Date   OrderDate  ClientID  ChannelID      OrderID  \\\n",
       "0   14-16.  2018-10-03  2018-10-02  93808186          2  90102063002   \n",
       "\n",
       "   MaterialID  GroupID Cluster  CancelFlag  OrderCnt      DeliveryType  \\\n",
       "0   3328810.0     61.0    None           0       1.0  Обычная доставка   \n",
       "\n",
       "   prepay  count_edit  \n",
       "0       0           1  "
      ]
     },
     "execution_count": 37,
     "metadata": {},
     "output_type": "execute_result"
    }
   ],
   "source": [
    "pd.read_sql('SELECT * FROM orders LIMIT 1', conn)"
   ]
  }
 ],
 "metadata": {
  "kernelspec": {
   "display_name": "Python 3",
   "language": "python",
   "name": "python3"
  },
  "language_info": {
   "codemirror_mode": {
    "name": "ipython",
    "version": 3
   },
   "file_extension": ".py",
   "mimetype": "text/x-python",
   "name": "python",
   "nbconvert_exporter": "python",
   "pygments_lexer": "ipython3",
   "version": "3.7.0"
  }
 },
 "nbformat": 4,
 "nbformat_minor": 4
}
