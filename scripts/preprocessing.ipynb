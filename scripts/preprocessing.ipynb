{
 "cells": [
  {
   "cell_type": "code",
   "execution_count": 14,
   "metadata": {},
   "outputs": [],
   "source": [
    "import pandas as pd\n",
    "import datetime\n",
    "import os\n",
    "import sqlite3\n",
    "from sklearn.preprocessing import LabelEncoder"
   ]
  },
  {
   "cell_type": "code",
   "execution_count": 19,
   "metadata": {
    "tags": [
     "parameters"
    ]
   },
   "outputs": [],
   "source": [
    "#parameters\n",
    "date = ''\n",
    "airflow_home = os.environ['AIRFLOW_HOME']"
   ]
  },
  {
   "cell_type": "code",
   "execution_count": 20,
   "metadata": {},
   "outputs": [],
   "source": [
    "data = pd.read_csv(f'{airflow_home}/data/monthly/output_{date}.csv')"
   ]
  },
  {
   "cell_type": "code",
   "execution_count": 21,
   "metadata": {},
   "outputs": [],
   "source": [
    "order_cnt = data[['OrderID', 'OrderCnt']].groupby('OrderID').sum().reset_index()"
   ]
  },
  {
   "cell_type": "code",
   "execution_count": 22,
   "metadata": {},
   "outputs": [],
   "source": [
    "data = data.drop(['ClientID', 'MaterialID', 'GroupID', 'OrderCnt'], axis=1)"
   ]
  },
  {
   "cell_type": "code",
   "execution_count": 23,
   "metadata": {},
   "outputs": [],
   "source": [
    "interval_time = data['Interval'].apply(lambda x: int(x.split('-')[1][:-1]) - int(x.split('-')[0]))"
   ]
  },
  {
   "cell_type": "code",
   "execution_count": 24,
   "metadata": {},
   "outputs": [],
   "source": [
    "order_weekday = data['OrderDate'].apply(lambda x: datetime.datetime.strptime(x, '%Y-%m-%d').weekday())\n",
    "weekday = data['Date'].apply(lambda x: datetime.datetime.strptime(x, '%Y-%m-%d').weekday())"
   ]
  },
  {
   "cell_type": "code",
   "execution_count": 25,
   "metadata": {},
   "outputs": [],
   "source": [
    "interval_low = data['Interval'].apply(lambda x: int(x.split('-')[0])).apply(lambda x: x if x != 0 else 24)\n",
    "interval_high = data['Interval'].apply(lambda x: int(x.split('-')[1][:-1])).apply(lambda x: x if x != 0 else 24)\n",
    "interval_time = interval_high - interval_low\n",
    "interval_avg = (interval_high + interval_low) / 2"
   ]
  },
  {
   "cell_type": "code",
   "execution_count": 26,
   "metadata": {},
   "outputs": [],
   "source": [
    "morning = list(range(6, 12))\n",
    "day = list(range(12, 18))\n",
    "evening = list(range(18, 24))\n",
    "night = [24] + list(range(1, 6))\n",
    "\n",
    "morning = interval_avg.isin(morning)\n",
    "day = interval_avg.isin(day)\n",
    "evening = interval_avg.isin(evening)\n",
    "night = interval_avg.isin(night)"
   ]
  },
  {
   "cell_type": "code",
   "execution_count": 27,
   "metadata": {},
   "outputs": [],
   "source": [
    "data['interval_time'] = interval_time\n",
    "data['order_weekday'] = order_weekday\n",
    "data['weekday'] = weekday\n",
    "data['interval_low'] = interval_low\n",
    "data['interval_high'] = interval_high\n",
    "data['interval_time'] = interval_time\n",
    "data['interval_avg'] = interval_avg\n",
    "data['morning'] = morning.apply(lambda x: 1 if x else 0)\n",
    "data['day'] = day.apply(lambda x: 1 if x else 0)\n",
    "data['evening'] = evening.apply(lambda x: 1 if x else 0)\n",
    "data['night'] = night.apply(lambda x: 1 if x else 0)\n",
    "data['is_order_weekend'] = data['order_weekday'].apply(lambda x: 1 if x in [5,6] else 0)\n",
    "data['is_weekend'] = data['weekday'].apply(lambda x: 1 if x in [5,6] else 0)\n",
    "data['Cluster'] = data['Cluster'].fillna('foo')\n",
    "data['count_edit'] -= 1"
   ]
  },
  {
   "cell_type": "code",
   "execution_count": 28,
   "metadata": {},
   "outputs": [],
   "source": [
    "label_cols = ['DeliveryType', 'Cluster']\n",
    "\n",
    "for col in label_cols:\n",
    "    le = LabelEncoder()\n",
    "    data[col] = le.fit_transform(data[col])"
   ]
  },
  {
   "cell_type": "code",
   "execution_count": 35,
   "metadata": {},
   "outputs": [],
   "source": [
    "data = data.drop(['index', 'Interval', 'Date'], axis=1)"
   ]
  },
  {
   "cell_type": "code",
   "execution_count": 36,
   "metadata": {},
   "outputs": [],
   "source": [
    "conn = sqlite3.connect(f'{airflow_home}/db/sqlite.db')\n",
    "if_exists = 'append'\n",
    "if date == '2018-02-01':\n",
    "    if_exists = 'replace'\n",
    "data.to_sql('orders_preprocessed', conn, if_exists=if_exists)"
   ]
  },
  {
   "cell_type": "code",
   "execution_count": 40,
   "metadata": {},
   "outputs": [],
   "source": [
    "data = pd.read_sql('SELECT * FROM orders_preprocessed', conn)\n",
    "data = data.drop('index', axis=1)\n",
    "data.to_csv(f'{airflow_home}/data/data_preprocessed.csv', index=False)"
   ]
  }
 ],
 "metadata": {
  "kernelspec": {
   "display_name": "Python 3",
   "language": "python",
   "name": "python3"
  },
  "language_info": {
   "codemirror_mode": {
    "name": "ipython",
    "version": 3
   },
   "file_extension": ".py",
   "mimetype": "text/x-python",
   "name": "python",
   "nbconvert_exporter": "python",
   "pygments_lexer": "ipython3",
   "version": "3.7.0"
  }
 },
 "nbformat": 4,
 "nbformat_minor": 4
}
