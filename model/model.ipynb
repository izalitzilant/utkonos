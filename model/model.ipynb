{
 "cells": [
  {
   "cell_type": "code",
   "execution_count": 61,
   "metadata": {},
   "outputs": [],
   "source": [
    "import lightgbm as lgb\n",
    "import pandas as pd\n",
    "import numpy as np\n",
    "import os\n",
    "import glob\n",
    "from sklearn.metrics import roc_auc_score\n",
    "from sklearn.model_selection import train_test_split\n",
    "from sklearn.model_selection import RandomizedSearchCV"
   ]
  },
  {
   "cell_type": "code",
   "execution_count": 62,
   "metadata": {
    "tags": [
     "parameters"
    ]
   },
   "outputs": [],
   "source": [
    "#parameters\n",
    "date = ''\n",
    "period = ''\n",
    "airflow_home = os.environ['AIRFLOW_HOME']"
   ]
  },
  {
   "cell_type": "code",
   "execution_count": 78,
   "metadata": {},
   "outputs": [],
   "source": [
    "df_raw = pd.read_csv(f'{airflow_home}/data/preprocessed/{period}/output_{date}.csv')"
   ]
  },
  {
   "cell_type": "code",
   "execution_count": 79,
   "metadata": {},
   "outputs": [],
   "source": [
    "cols = ['ChannelID',\n",
    "        'Cluster',\n",
    "        'prepay',\n",
    "        'count_edit',\n",
    "        'interval_time',\n",
    "        'order_weekday',\n",
    "        'weekday',\n",
    "        'interval_high',\n",
    "        'CancelFlag',\n",
    "]"
   ]
  },
  {
   "cell_type": "code",
   "execution_count": 80,
   "metadata": {},
   "outputs": [],
   "source": [
    "data = df_raw[cols]"
   ]
  },
  {
   "cell_type": "code",
   "execution_count": 81,
   "metadata": {},
   "outputs": [],
   "source": [
    "X = data.drop('CancelFlag', axis=1)\n",
    "y = data['CancelFlag']\n",
    "X.columns = range(len(X.columns))\n",
    "y.columns = [0]"
   ]
  },
  {
   "cell_type": "code",
   "execution_count": 90,
   "metadata": {},
   "outputs": [],
   "source": [
    "X_train, X_test, y_train, y_test = train_test_split(X, y, test_size=0.33, random_state=42, stratify=y)\n",
    "train_data = lgb.Dataset(X_train, label=y_train, free_raw_data=False)\n",
    "test_data = lgb.Dataset(X_test, label=y_test, free_raw_data=False, reference=train_data)"
   ]
  },
  {
   "cell_type": "code",
   "execution_count": 94,
   "metadata": {},
   "outputs": [],
   "source": [
    "models = [model.split('/')[-1] for model in glob.glob(f'{airflow_home}/model/*.txt')]\n",
    "num_round = 100\n",
    "\n",
    "if models:\n",
    "    model = lgb.Booster(model_file=f'{airflow_home}/model/{models[-1]}')\n",
    "    bst = model.refit(X_train, y_train)\n",
    "else:\n",
    "    params = {\n",
    "    'num_leaves': 40,\n",
    "    'objective': 'binary',\n",
    "    'max_depth': -1,\n",
    "    'learning_rate': 0.1,\n",
    "    'tree_learner': 'data',\n",
    "    'metric': 'auc',\n",
    "    'boosting': 'dart'\n",
    "    }\n",
    "    bst = lgb.train(params, train_data, num_round, valid_sets=[test_data], early_stopping_rounds=5)"
   ]
  },
  {
   "cell_type": "code",
   "execution_count": 57,
   "metadata": {},
   "outputs": [],
   "source": [
    "y_pred = bst.predict(X_test)"
   ]
  },
  {
   "cell_type": "code",
   "execution_count": 58,
   "metadata": {},
   "outputs": [
    {
     "data": {
      "text/plain": [
       "<lightgbm.basic.Booster at 0x7f7c4485b160>"
      ]
     },
     "execution_count": 58,
     "metadata": {},
     "output_type": "execute_result"
    }
   ],
   "source": [
    "score = str(round(roc_auc_score(y_test, y_pred), 4))[2:]\n",
    "bst.save_model(f'{airflow_home}/model/model_{period}_{date}_{score}.txt', num_iteration=bst.best_iteration)"
   ]
  }
 ],
 "metadata": {
  "kernelspec": {
   "display_name": "Python 3",
   "language": "python",
   "name": "python3"
  },
  "language_info": {
   "codemirror_mode": {
    "name": "ipython",
    "version": 3
   },
   "file_extension": ".py",
   "mimetype": "text/x-python",
   "name": "python",
   "nbconvert_exporter": "python",
   "pygments_lexer": "ipython3",
   "version": "3.7.0"
  }
 },
 "nbformat": 4,
 "nbformat_minor": 4
}
