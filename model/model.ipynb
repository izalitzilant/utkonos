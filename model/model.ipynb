{
 "cells": [
  {
   "cell_type": "code",
   "execution_count": 3,
   "metadata": {},
   "outputs": [],
   "source": [
    "import lightgbm as lgb\n",
    "import pandas as pd\n",
    "import numpy as np\n",
    "import os\n",
    "import glob\n",
    "from sklearn.metrics import roc_auc_score\n",
    "from sklearn.model_selection import train_test_split\n",
    "from sklearn.model_selection import RandomizedSearchCV"
   ]
  },
  {
   "cell_type": "code",
   "execution_count": 4,
   "metadata": {},
   "outputs": [],
   "source": [
    "airflow_home = os.environ['AIRFLOW_HOME']"
   ]
  },
  {
   "cell_type": "code",
   "execution_count": 5,
   "metadata": {},
   "outputs": [],
   "source": [
    "df_raw = pd.read_csv(f'{airflow_home}/data/processed/preprocessed_full.csv')"
   ]
  },
  {
   "cell_type": "code",
   "execution_count": 6,
   "metadata": {},
   "outputs": [],
   "source": [
    "max_date = df_raw['OrderDate'].max()"
   ]
  },
  {
   "cell_type": "code",
   "execution_count": 7,
   "metadata": {},
   "outputs": [],
   "source": [
    "cols = ['ChannelID',\n",
    "        'Cluster',\n",
    "        'prepay',\n",
    "        'count_edit',\n",
    "        'interval_time',\n",
    "        'order_weekday',\n",
    "        'weekday',\n",
    "        'interval_high',\n",
    "        'CancelFlag',\n",
    "]"
   ]
  },
  {
   "cell_type": "code",
   "execution_count": 8,
   "metadata": {},
   "outputs": [],
   "source": [
    "data = df_raw[cols]"
   ]
  },
  {
   "cell_type": "code",
   "execution_count": 9,
   "metadata": {},
   "outputs": [],
   "source": [
    "X = data.drop('CancelFlag', axis=1)\n",
    "y = data['CancelFlag']\n",
    "X.columns = range(len(X.columns))\n",
    "y.columns = [0]"
   ]
  },
  {
   "cell_type": "code",
   "execution_count": 10,
   "metadata": {},
   "outputs": [],
   "source": [
    "X_train, X_test, y_train, y_test = train_test_split(X, y, test_size=0.3, random_state=42, stratify=y)\n",
    "\n",
    "dataset = lgb.Dataset(X, label=y, free_raw_data=False)\n",
    "train_data = lgb.Dataset(X_train, label=y_train, free_raw_data=False)\n",
    "test_data = lgb.Dataset(X_test, label=y_test, free_raw_data=False, reference=train_data)"
   ]
  },
  {
   "cell_type": "code",
   "execution_count": 11,
   "metadata": {},
   "outputs": [],
   "source": [
    "param = {\n",
    "    'num_leaves': 40,\n",
    "    'objective': 'binary',\n",
    "    'max_depth': -1,\n",
    "    #'scale_pos_weight': '1.5',\n",
    "    #'unbalance': 'true',\n",
    "    #'min_sum_hessian_in_leaf': 1e-3,\n",
    "    #'pos_bagging_fraction': 0.8,\n",
    "    #'neg_bagging_fraction': 0.8,\n",
    "    #'bagging_fraction': 0.8,\n",
    "    #'bagging_freq': 5,\n",
    "    #'max_bin': 120,\n",
    "    #'min_gain_to_split': \n",
    "    #'min_data_in_leaf': 50,\n",
    "    'learning_rate': 0.1,\n",
    "    #'boosting': 'dart',\n",
    "    #'lambda_l2': 1.0,\n",
    "    #'cat_l2': 1.0,\n",
    "    #'cat_smooth': 50,\n",
    "    #'top_k': 100,\n",
    "    'tree_learner': 'data',\n",
    "    #'max_cat_group': 50\n",
    "    #'boosting': 'dart'\n",
    "}\n",
    "param['metric'] = 'auc'"
   ]
  },
  {
   "cell_type": "code",
   "execution_count": 12,
   "metadata": {},
   "outputs": [],
   "source": [
    "num_round = 100\n",
    "bst = lgb.train(param, train_data, num_round, valid_sets=[test_data], early_stopping_rounds=5, verbose_eval=0)"
   ]
  },
  {
   "cell_type": "code",
   "execution_count": 13,
   "metadata": {},
   "outputs": [
    {
     "data": {
      "text/plain": [
       "<lightgbm.basic.Booster at 0x7fa12b812240>"
      ]
     },
     "execution_count": 13,
     "metadata": {},
     "output_type": "execute_result"
    }
   ],
   "source": [
    "score = str(round(bst.best_score['valid_0']['auc'], 4))[2:]\n",
    "bst.save_model(f'{airflow_home}/model/model_{max_date}_{score}.txt', num_iteration=bst.best_iteration)"
   ]
  }
 ],
 "metadata": {
  "kernelspec": {
   "display_name": "Python 3",
   "language": "python",
   "name": "python3"
  },
  "language_info": {
   "codemirror_mode": {
    "name": "ipython",
    "version": 3
   },
   "file_extension": ".py",
   "mimetype": "text/x-python",
   "name": "python",
   "nbconvert_exporter": "python",
   "pygments_lexer": "ipython3",
   "version": "3.7.0"
  }
 },
 "nbformat": 4,
 "nbformat_minor": 4
}
